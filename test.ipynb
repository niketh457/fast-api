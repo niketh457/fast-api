{
 "cells": [
  {
   "cell_type": "code",
   "execution_count": null,
   "id": "bd081291-27b7-4d2e-802a-e35a25cf2587",
   "metadata": {},
   "outputs": [],
   "source": [
    "import os\n",
    "dir(os)"
   ]
  },
  {
   "cell_type": "code",
   "execution_count": 1,
   "id": "0c1fcd7b-efe2-43b2-a210-e43a7545e495",
   "metadata": {},
   "outputs": [],
   "source": [
    "from pydantic_settings import BaseSettings"
   ]
  },
  {
   "cell_type": "code",
   "execution_count": 10,
   "id": "8dffe617-0732-49b7-aac8-29468fd018e0",
   "metadata": {},
   "outputs": [],
   "source": [
    "class settings(BaseSettings):\n",
    "    hellp: int = 90"
   ]
  },
  {
   "cell_type": "code",
   "execution_count": 11,
   "id": "c0630e93-b98f-43fe-9e6e-526752b81061",
   "metadata": {},
   "outputs": [],
   "source": [
    "req = settings()"
   ]
  },
  {
   "cell_type": "code",
   "execution_count": 12,
   "id": "48bd0853-7dc0-42e7-87f9-853f8b79f0eb",
   "metadata": {},
   "outputs": [
    {
     "data": {
      "text/plain": [
       "90"
      ]
     },
     "execution_count": 12,
     "metadata": {},
     "output_type": "execute_result"
    }
   ],
   "source": [
    "req.hellp"
   ]
  },
  {
   "cell_type": "code",
   "execution_count": null,
   "id": "55986ce0-da88-428b-85e9-357e95e15fa6",
   "metadata": {},
   "outputs": [],
   "source": []
  }
 ],
 "metadata": {
  "kernelspec": {
   "display_name": "Python 3 (ipykernel)",
   "language": "python",
   "name": "python3"
  },
  "language_info": {
   "codemirror_mode": {
    "name": "ipython",
    "version": 3
   },
   "file_extension": ".py",
   "mimetype": "text/x-python",
   "name": "python",
   "nbconvert_exporter": "python",
   "pygments_lexer": "ipython3",
   "version": "3.11.1"
  }
 },
 "nbformat": 4,
 "nbformat_minor": 5
}
